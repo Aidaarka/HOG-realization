{
 "cells": [
  {
   "cell_type": "code",
   "execution_count": 14,
   "metadata": {},
   "outputs": [
    {
     "name": "stdout",
     "output_type": "stream",
     "text": [
      "completed 0 images   \n",
      "Completed all images\n"
     ]
    }
   ],
   "source": [
    "from multiprocessing.dummy import Pool\n",
    "from multiprocessing.sharedctypes import Value\n",
    "from ctypes import c_int\n",
    "import time, cv2, os\n",
    "\n",
    "wdir = r'D:\\new\\positive'#директория с выборкой\n",
    "os.chdir(wdir)\n",
    "\n",
    "def read_imagecv2(img_path, counter):\n",
    "    img = cv2.imread(img_path)\n",
    "    img = cv2.resize(img, (32, 32))#желаемый размер\n",
    "    cv2.imwrite(''+img_path, img) #перезапись изображения в тот же путь\n",
    "    with counter.get_lock(): #счетчик перезаписанных \n",
    "        counter.value += 1\n",
    "\n",
    "if __name__ == '__main__':\n",
    "    with Pool(processes=4) as pool: \n",
    "        counter = Value(c_int, 0) \n",
    "        chunksize = 4 \n",
    "        result = pool.starmap_async(read_imagecv2, \n",
    "                                    ((file, counter) for file in os.listdir(os.getcwd()) if file.endswith('.jpg')),\n",
    "                                    chunksize)\n",
    "        while not result.ready():\n",
    "            print(\"\\rcompleted {} images   \".format(counter.value), end='')\n",
    "            time.sleep(.5)\n",
    "        print('\\nCompleted all images')"
   ]
  },
  {
   "cell_type": "code",
   "execution_count": null,
   "metadata": {},
   "outputs": [],
   "source": []
  },
  {
   "cell_type": "code",
   "execution_count": null,
   "metadata": {},
   "outputs": [],
   "source": []
  }
 ],
 "metadata": {
  "kernelspec": {
   "display_name": "Python 3",
   "language": "python",
   "name": "python3"
  },
  "language_info": {
   "codemirror_mode": {
    "name": "ipython",
    "version": 3
   },
   "file_extension": ".py",
   "mimetype": "text/x-python",
   "name": "python",
   "nbconvert_exporter": "python",
   "pygments_lexer": "ipython3",
   "version": "3.7.3"
  }
 },
 "nbformat": 4,
 "nbformat_minor": 2
}
